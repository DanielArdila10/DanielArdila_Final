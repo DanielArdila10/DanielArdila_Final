{
 "cells": [
  {
   "cell_type": "markdown",
   "metadata": {},
   "source": [
    "# Brecha Salarial en ciencia de datos entre Mujeres y Hombres de Kaggle: Un reflejo de la desigualdad social en pleno siglo XXI\n",
    "\n"
   ]
  },
  {
   "cell_type": "markdown",
   "metadata": {},
   "source": [
    "El mundo entero sabe y reconoce que hay una brecha salarial entre los\n",
    "hombres y las mujeres, lo que reafirma la desigualdad que existe entre\n",
    "los dos sexos. Esta desigualdad salarial se revela mayormente en\n",
    "profesiones y labores que tienen que ver con la tecnología y la ciencia de\n",
    "datos, entre otros. Las estadísticas de la mayoría de países así lo demuestran, por ejemplo\n",
    "en Francia la diferencia existente entre el salario de ambos sexos es 9%\n",
    "mayor en hombres frente a las mujeres, trabajando en los mismos\n",
    "puestos. Situación similar ocurre en Alemania, donde está demostrado\n",
    "que las mujeres ganan en promedio 21% menos que los hombres, y aun\n",
    "cuando hay leyes intentando disminuir esta brecha salarial (por ejemplo,\n",
    "las empresas deben brindar información del salario de hombres y\n",
    "mujeres haciendo las mismas labores a quien lo solicite), esta\n",
    "desigualdad salarial continúa.\n",
    "\n",
    "En México, la brecha en los salarios entre ambos sexos es del 16,7% a\n",
    "favor de los hombres, mayor que el promedio de los 35 países de la\n",
    "OCDE, mientras que en Argentina la brecha salarial ronda el 25% entre\n",
    "hombres y mujeres, a favor de los primeros.\n",
    "En Rusia las mujeres ganan en promedio un 26% menos que los hombres\n",
    "que ejercen trabajos similares y un bajísimo porcentaje llega a ocupar\n",
    "cargos de poder.\n",
    "\n",
    "A diferencia de la gran mayoría de países del mundo en algunos países\n",
    "nórdicos no hay brecha salarial entre hombres y mujeres; en este sentido\n",
    "en primer lugar está Islandia, donde es ilegal pagarle menos a una u otra\n",
    "persona si ambos están realizando el mismo trabajo.\n",
    "Según el Foro Económico Mundial en Sudáfrica la brecha salarial ha\n",
    "fluctuado entre el 15 y el 18% en los últimos 50 años; sin embargo, datos\n",
    "de la empresa Stats SA en su último estudio apunta a que la brecha en\n",
    "este país es del 23%.\n",
    "\n",
    "En Estados Unidos la brecha salarial que existe entre hombres y mujeres\n",
    "es del 20% y aun cuando ha habido varias iniciativas para cerrar esta\n",
    "brecha, estas no han logrado disminuir efectivamente esta desigualdad.\n",
    "Los anteriores datos reflejan la realidad de un mundo aún dominado por\n",
    "los hombres, quienes hacen las leyes para su conveniencia, en detrimento\n",
    "de la capacidad y potencial de crecimiento de las mujeres.\n",
    "Sin embargo, poco a poco, la mujer ha ido ganando escaños en todos los\n",
    "espacios laborales y de poder y ha luchado por disminuir esas brechas, lo\n",
    "que ha permitido que ellas aporten cada vez más a la construcción de una\n",
    "sociedad más justa, incluyente y próspera.\n",
    "\n",
    "A raíz de esto, estudiaremos la brecha salarial que existe entre mujeresy hombres que se encuentran dentro los usuarios de Kaggle, nos enfocaremos en los casos de países como India y Estados Unidos."
   ]
  },
  {
   "cell_type": "code",
   "execution_count": 100,
   "metadata": {
    "collapsed": true
   },
   "outputs": [],
   "source": [
    "import pandas as pd\n",
    "from sklearn.preprocessing import MinMaxScaler\n",
    "from sklearn.cluster import KMeans\n",
    "import matplotlib.pyplot as plt\n",
    "import seaborn as sns\n",
    "import math\n",
    "import numpy as np\n",
    "import statsmodels.api as sm\n",
    "import pandas.plotting\n",
    "from sklearn import linear_model\n"
   ]
  },
  {
   "cell_type": "markdown",
   "metadata": {},
   "source": [
    "## Limpieza de Datos"
   ]
  },
  {
   "cell_type": "markdown",
   "metadata": {},
   "source": [
    "Para mostrar efectivamente la brecha de salario que existe entre hombres y mujeres de Kaggle, consideramos el caso de países como la India y los Estados Unidos. Tomaremos ciertas variables que consideramos significativas a la hora de establecer un salario, tales como: nivel máximo de educación, número de años de experiencia y carrera universitaria."
   ]
  },
  {
   "cell_type": "code",
   "execution_count": 22,
   "metadata": {
    "collapsed": true
   },
   "outputs": [
    {
     "name": "stderr",
     "output_type": "stream",
     "text": [
      "C:\\Users\\danie\\Anaconda\\lib\\site-packages\\IPython\\core\\interactiveshell.py:2717: DtypeWarning: Columns (0,2,8,10,21,23,24,25,26,27,28,44,56,64,83,85,87,107,109,123,125,150,157,172,174,194,210,218,219,223,246,249,262,264,276,277,278,279,280,281,282,283,284,285,286,287,288,289,290,304,306,325,326,329,341,368,371,384,385,389,390,391,393,394) have mixed types. Specify dtype option on import or set low_memory=False.\n",
      "  interactivity=interactivity, compiler=compiler, result=result)\n"
     ]
    },
    {
     "data": {
      "text/html": [
       "<div>\n",
       "<style>\n",
       "    .dataframe thead tr:only-child th {\n",
       "        text-align: right;\n",
       "    }\n",
       "\n",
       "    .dataframe thead th {\n",
       "        text-align: left;\n",
       "    }\n",
       "\n",
       "    .dataframe tbody tr th {\n",
       "        vertical-align: top;\n",
       "    }\n",
       "</style>\n",
       "<table border=\"1\" class=\"dataframe\">\n",
       "  <thead>\n",
       "    <tr style=\"text-align: right;\">\n",
       "      <th></th>\n",
       "      <th>Time from Start to Finish (seconds)</th>\n",
       "      <th>Q1</th>\n",
       "      <th>Q1_OTHER_TEXT</th>\n",
       "      <th>Q2</th>\n",
       "      <th>Q3</th>\n",
       "      <th>Q4</th>\n",
       "      <th>Q5</th>\n",
       "      <th>Q6</th>\n",
       "      <th>Q6_OTHER_TEXT</th>\n",
       "      <th>Q7</th>\n",
       "      <th>...</th>\n",
       "      <th>Q49_OTHER_TEXT</th>\n",
       "      <th>Q50_Part_1</th>\n",
       "      <th>Q50_Part_2</th>\n",
       "      <th>Q50_Part_3</th>\n",
       "      <th>Q50_Part_4</th>\n",
       "      <th>Q50_Part_5</th>\n",
       "      <th>Q50_Part_6</th>\n",
       "      <th>Q50_Part_7</th>\n",
       "      <th>Q50_Part_8</th>\n",
       "      <th>Q50_OTHER_TEXT</th>\n",
       "    </tr>\n",
       "  </thead>\n",
       "  <tbody>\n",
       "    <tr>\n",
       "      <th>0</th>\n",
       "      <td>Duration (in seconds)</td>\n",
       "      <td>What is your gender? - Selected Choice</td>\n",
       "      <td>What is your gender? - Prefer to self-describe...</td>\n",
       "      <td>What is your age (# years)?</td>\n",
       "      <td>In which country do you currently reside?</td>\n",
       "      <td>What is the highest level of formal education ...</td>\n",
       "      <td>Which best describes your undergraduate major?...</td>\n",
       "      <td>Select the title most similar to your current ...</td>\n",
       "      <td>Select the title most similar to your current ...</td>\n",
       "      <td>In what industry is your current employer/cont...</td>\n",
       "      <td>...</td>\n",
       "      <td>What tools and methods do you use to make your...</td>\n",
       "      <td>What barriers prevent you from making your wor...</td>\n",
       "      <td>What barriers prevent you from making your wor...</td>\n",
       "      <td>What barriers prevent you from making your wor...</td>\n",
       "      <td>What barriers prevent you from making your wor...</td>\n",
       "      <td>What barriers prevent you from making your wor...</td>\n",
       "      <td>What barriers prevent you from making your wor...</td>\n",
       "      <td>What barriers prevent you from making your wor...</td>\n",
       "      <td>What barriers prevent you from making your wor...</td>\n",
       "      <td>What barriers prevent you from making your wor...</td>\n",
       "    </tr>\n",
       "    <tr>\n",
       "      <th>1</th>\n",
       "      <td>710</td>\n",
       "      <td>Female</td>\n",
       "      <td>-1</td>\n",
       "      <td>45-49</td>\n",
       "      <td>United States of America</td>\n",
       "      <td>Doctoral degree</td>\n",
       "      <td>Other</td>\n",
       "      <td>Consultant</td>\n",
       "      <td>-1</td>\n",
       "      <td>Other</td>\n",
       "      <td>...</td>\n",
       "      <td>-1</td>\n",
       "      <td>NaN</td>\n",
       "      <td>NaN</td>\n",
       "      <td>NaN</td>\n",
       "      <td>NaN</td>\n",
       "      <td>NaN</td>\n",
       "      <td>NaN</td>\n",
       "      <td>NaN</td>\n",
       "      <td>NaN</td>\n",
       "      <td>-1</td>\n",
       "    </tr>\n",
       "    <tr>\n",
       "      <th>2</th>\n",
       "      <td>434</td>\n",
       "      <td>Male</td>\n",
       "      <td>-1</td>\n",
       "      <td>30-34</td>\n",
       "      <td>Indonesia</td>\n",
       "      <td>Bachelor’s degree</td>\n",
       "      <td>Engineering (non-computer focused)</td>\n",
       "      <td>Other</td>\n",
       "      <td>0</td>\n",
       "      <td>Manufacturing/Fabrication</td>\n",
       "      <td>...</td>\n",
       "      <td>-1</td>\n",
       "      <td>NaN</td>\n",
       "      <td>NaN</td>\n",
       "      <td>NaN</td>\n",
       "      <td>NaN</td>\n",
       "      <td>NaN</td>\n",
       "      <td>NaN</td>\n",
       "      <td>NaN</td>\n",
       "      <td>NaN</td>\n",
       "      <td>-1</td>\n",
       "    </tr>\n",
       "    <tr>\n",
       "      <th>3</th>\n",
       "      <td>718</td>\n",
       "      <td>Female</td>\n",
       "      <td>-1</td>\n",
       "      <td>30-34</td>\n",
       "      <td>United States of America</td>\n",
       "      <td>Master’s degree</td>\n",
       "      <td>Computer science (software engineering, etc.)</td>\n",
       "      <td>Data Scientist</td>\n",
       "      <td>-1</td>\n",
       "      <td>I am a student</td>\n",
       "      <td>...</td>\n",
       "      <td>-1</td>\n",
       "      <td>NaN</td>\n",
       "      <td>Too time-consuming</td>\n",
       "      <td>NaN</td>\n",
       "      <td>NaN</td>\n",
       "      <td>NaN</td>\n",
       "      <td>NaN</td>\n",
       "      <td>NaN</td>\n",
       "      <td>NaN</td>\n",
       "      <td>-1</td>\n",
       "    </tr>\n",
       "  </tbody>\n",
       "</table>\n",
       "<p>4 rows × 395 columns</p>\n",
       "</div>"
      ],
      "text/plain": [
       "  Time from Start to Finish (seconds)                                      Q1  \\\n",
       "0               Duration (in seconds)  What is your gender? - Selected Choice   \n",
       "1                                 710                                  Female   \n",
       "2                                 434                                    Male   \n",
       "3                                 718                                  Female   \n",
       "\n",
       "                                       Q1_OTHER_TEXT  \\\n",
       "0  What is your gender? - Prefer to self-describe...   \n",
       "1                                                 -1   \n",
       "2                                                 -1   \n",
       "3                                                 -1   \n",
       "\n",
       "                            Q2                                         Q3  \\\n",
       "0  What is your age (# years)?  In which country do you currently reside?   \n",
       "1                        45-49                   United States of America   \n",
       "2                        30-34                                  Indonesia   \n",
       "3                        30-34                   United States of America   \n",
       "\n",
       "                                                  Q4  \\\n",
       "0  What is the highest level of formal education ...   \n",
       "1                                    Doctoral degree   \n",
       "2                                  Bachelor’s degree   \n",
       "3                                    Master’s degree   \n",
       "\n",
       "                                                  Q5  \\\n",
       "0  Which best describes your undergraduate major?...   \n",
       "1                                              Other   \n",
       "2                 Engineering (non-computer focused)   \n",
       "3      Computer science (software engineering, etc.)   \n",
       "\n",
       "                                                  Q6  \\\n",
       "0  Select the title most similar to your current ...   \n",
       "1                                         Consultant   \n",
       "2                                              Other   \n",
       "3                                     Data Scientist   \n",
       "\n",
       "                                       Q6_OTHER_TEXT  \\\n",
       "0  Select the title most similar to your current ...   \n",
       "1                                                 -1   \n",
       "2                                                  0   \n",
       "3                                                 -1   \n",
       "\n",
       "                                                  Q7  \\\n",
       "0  In what industry is your current employer/cont...   \n",
       "1                                              Other   \n",
       "2                          Manufacturing/Fabrication   \n",
       "3                                     I am a student   \n",
       "\n",
       "                         ...                          \\\n",
       "0                        ...                           \n",
       "1                        ...                           \n",
       "2                        ...                           \n",
       "3                        ...                           \n",
       "\n",
       "                                      Q49_OTHER_TEXT  \\\n",
       "0  What tools and methods do you use to make your...   \n",
       "1                                                 -1   \n",
       "2                                                 -1   \n",
       "3                                                 -1   \n",
       "\n",
       "                                          Q50_Part_1  \\\n",
       "0  What barriers prevent you from making your wor...   \n",
       "1                                                NaN   \n",
       "2                                                NaN   \n",
       "3                                                NaN   \n",
       "\n",
       "                                          Q50_Part_2  \\\n",
       "0  What barriers prevent you from making your wor...   \n",
       "1                                                NaN   \n",
       "2                                                NaN   \n",
       "3                                 Too time-consuming   \n",
       "\n",
       "                                          Q50_Part_3  \\\n",
       "0  What barriers prevent you from making your wor...   \n",
       "1                                                NaN   \n",
       "2                                                NaN   \n",
       "3                                                NaN   \n",
       "\n",
       "                                          Q50_Part_4  \\\n",
       "0  What barriers prevent you from making your wor...   \n",
       "1                                                NaN   \n",
       "2                                                NaN   \n",
       "3                                                NaN   \n",
       "\n",
       "                                          Q50_Part_5  \\\n",
       "0  What barriers prevent you from making your wor...   \n",
       "1                                                NaN   \n",
       "2                                                NaN   \n",
       "3                                                NaN   \n",
       "\n",
       "                                          Q50_Part_6  \\\n",
       "0  What barriers prevent you from making your wor...   \n",
       "1                                                NaN   \n",
       "2                                                NaN   \n",
       "3                                                NaN   \n",
       "\n",
       "                                          Q50_Part_7  \\\n",
       "0  What barriers prevent you from making your wor...   \n",
       "1                                                NaN   \n",
       "2                                                NaN   \n",
       "3                                                NaN   \n",
       "\n",
       "                                          Q50_Part_8  \\\n",
       "0  What barriers prevent you from making your wor...   \n",
       "1                                                NaN   \n",
       "2                                                NaN   \n",
       "3                                                NaN   \n",
       "\n",
       "                                      Q50_OTHER_TEXT  \n",
       "0  What barriers prevent you from making your wor...  \n",
       "1                                                 -1  \n",
       "2                                                 -1  \n",
       "3                                                 -1  \n",
       "\n",
       "[4 rows x 395 columns]"
      ]
     },
     "execution_count": 22,
     "metadata": {},
     "output_type": "execute_result"
    }
   ],
   "source": [
    "data = pd.read_csv('multipleChoiceResponses.csv')\n",
    "data[0:4]"
   ]
  },
  {
   "cell_type": "markdown",
   "metadata": {},
   "source": [
    "Una vez se tienen los datos cargados se comienza a hacer una filtración de información. Las tres siguientes celdas contienen el proceso de limpieza de los datos."
   ]
  },
  {
   "cell_type": "code",
   "execution_count": 65,
   "metadata": {
    "collapsed": true
   },
   "outputs": [],
   "source": [
    "tuple_experience=('0-1','1-2','2-3','3-4','4-5','5-10','10-15','15-20','20-25','25-30','30 +') #Una tupla con los strings que deseamos cambiar\n",
    "tuple_experience_change=(0.5,1.5,2.5,3.5,4.5,7.5,12.5,17.5,22.5,27.5,30)  #Tupla de medianas para reemplazar los strings anteriores\n",
    "\n",
    "X = data[['Q1', 'Q3' , 'Q4', 'Q8' , 'Q9']].replace(('Male','Female','Prefer not to say',\\\n",
    "                                                    'I do not wish to disclose my approximate yearly compensation'\\\n",
    "                                                    ,'No formal education past high school',\\\n",
    "                                                    'Some college/university study without earning a bachelor’s degree'\\\n",
    "                                                    ,'Bachelor’s degree'\\\n",
    "                                                    ,'Professional degree','Master’s degree','Doctoral degree'\\\n",
    "                                                    ,'Prefer to self-describe','I prefer not to answer')\\\n",
    "                                                   ,(0,1,math.nan,math.nan,0,1,2,3,4,5,math.nan,math.nan)).dropna().\\\n",
    "                                                    replace(tuple_experience,tuple_experience_change) #DataFrame filtrando Nan y Strings, y asignando strings a enteros\n",
    "    \n",
    "    \n",
    "X.columns=['Gender(Male:0,Female:1)','Country','Formal Education','Years of Experience','Salary in USD'] #Columnas de interés\n",
    "new_filter_usa=X[X['Country'].str.contains(\"United States of America\")] #Se toman aquellos datos de usuarios residentes en Estados Unidos\n",
    "new_filter_india=X[X['Country'].str.contains('India')] #Se toman aquellos datos de usuarios residentes en India\n"
   ]
  },
  {
   "cell_type": "code",
   "execution_count": 66,
   "metadata": {},
   "outputs": [],
   "source": [
    "salary_usa=np.array(new_filter_usa['Salary in USD']) #Array de salario de Estados Unidos\n",
    "salary_india=np.array(new_filter_india['Salary in USD'])#Array de salario de India\n",
    "\n",
    "def median_salary(salary_array):\n",
    "    #Input: Un arreglo de salarios de tipo str\n",
    "    #Output: Arreglo de medianas de salarios de tipo float\n",
    "    \n",
    "    result=np.array([])\n",
    "    for i,string in enumerate(salary_array): #Se usa un loop para encontrar la mediana de los salarios\n",
    "        if string == '500,000+':\n",
    "            result = np.append(result,500000)\n",
    "        elif len(string) == 8:\n",
    "            result=np.append(result,(int(string[0])+int(string[2:4]))*1000/2)\n",
    "        elif len(string) == 9:\n",
    "            result = np.append(result,(int(string[0:2])+int(string[3:5]))*1000/2)\n",
    "        elif len(string) == 10:\n",
    "            result = np.append(result,(int(string[0:2])+int(string[3:6]))*1000/2)\n",
    "        elif len(string) == 11:\n",
    "            result = np.append(result,(int(string[0:3])+int(string[4:7]))*1000/2)\n",
    "    return result\n",
    "            \n",
    "new_salary_median_usa = median_salary(salary_usa) #Arreglo de medianas de los salarios en USA\n",
    "new_salary_median_india = median_salary(salary_india) #Arreglo de medianas de los salarios en India\n",
    "\n"
   ]
  },
  {
   "cell_type": "code",
   "execution_count": 67,
   "metadata": {},
   "outputs": [],
   "source": [
    "df_usa = new_filter_usa.drop(['Salary in USD'], axis=1) #Eliminamos la columna de salarios de nuestro DataFrame para luego reemplazarla por otra\n",
    "df_india = new_filter_india.drop(['Salary in USD'], axis=1) #Repetimos lo de arriba pero para India\n",
    "\n",
    "df_usa.index = [i for i in range(0,len(new_salary_median_usa))]\n",
    "df_india.index = [i for i in range(0,len(new_salary_median_india))]\n",
    "\n",
    "df_salary_usa=pd.DataFrame(data=new_salary_median_usa) \n",
    "df_salary_india=pd.DataFrame(data=new_salary_median_india)\n",
    "\n",
    "df_usa[['SalaryinUSD']]=df_salary_usa #Agregamos la nueva columna de la mediana de los salarios para USA\n",
    "df_india[['SalaryinUSD']]=df_salary_india #Agregamos la nueva columna de la mediana de los salarios para India\n",
    "\n",
    "df_usa_number=df_usa[['Gender(Male:0,Female:1)','Formal Education','Years of Experience','SalaryinUSD']]\n",
    "df_india_number=df_india[['Gender(Male:0,Female:1)','Formal Education','Years of Experience','SalaryinUSD']]\n",
    "\n",
    "\n",
    "#Organizamos en orden ascendente para comenzar el análisis\n",
    "df_usa_number=df_usa_number.sort_values(['SalaryinUSD'])\n",
    "df_india_number=df_india_number.sort_values(['SalaryinUSD'])\n",
    "\n"
   ]
  },
  {
   "cell_type": "markdown",
   "metadata": {},
   "source": [
    "# Análisis\n",
    "\n",
    "\n",
    "En la siguiente celda podemos observar una porción de los conjuntos de datos para India y Estados Unidos, respectivamente, con los cuales vamos a trabajar."
   ]
  },
  {
   "cell_type": "code",
   "execution_count": 68,
   "metadata": {
    "scrolled": true
   },
   "outputs": [
    {
     "data": {
      "text/html": [
       "<div>\n",
       "<style>\n",
       "    .dataframe thead tr:only-child th {\n",
       "        text-align: right;\n",
       "    }\n",
       "\n",
       "    .dataframe thead th {\n",
       "        text-align: left;\n",
       "    }\n",
       "\n",
       "    .dataframe tbody tr th {\n",
       "        vertical-align: top;\n",
       "    }\n",
       "</style>\n",
       "<table border=\"1\" class=\"dataframe\">\n",
       "  <thead>\n",
       "    <tr style=\"text-align: right;\">\n",
       "      <th></th>\n",
       "      <th>Gender(Male:0,Female:1)</th>\n",
       "      <th>Formal Education</th>\n",
       "      <th>Years of Experience</th>\n",
       "      <th>SalaryinUSD</th>\n",
       "    </tr>\n",
       "  </thead>\n",
       "  <tbody>\n",
       "    <tr>\n",
       "      <th>0</th>\n",
       "      <td>0</td>\n",
       "      <td>4</td>\n",
       "      <td>0.5</td>\n",
       "      <td>5000.0</td>\n",
       "    </tr>\n",
       "    <tr>\n",
       "      <th>1304</th>\n",
       "      <td>0</td>\n",
       "      <td>2</td>\n",
       "      <td>0.5</td>\n",
       "      <td>5000.0</td>\n",
       "    </tr>\n",
       "    <tr>\n",
       "      <th>1303</th>\n",
       "      <td>0</td>\n",
       "      <td>2</td>\n",
       "      <td>0.5</td>\n",
       "      <td>5000.0</td>\n",
       "    </tr>\n",
       "    <tr>\n",
       "      <th>1301</th>\n",
       "      <td>0</td>\n",
       "      <td>1</td>\n",
       "      <td>2.5</td>\n",
       "      <td>5000.0</td>\n",
       "    </tr>\n",
       "    <tr>\n",
       "      <th>1299</th>\n",
       "      <td>0</td>\n",
       "      <td>4</td>\n",
       "      <td>0.5</td>\n",
       "      <td>5000.0</td>\n",
       "    </tr>\n",
       "    <tr>\n",
       "      <th>1298</th>\n",
       "      <td>1</td>\n",
       "      <td>4</td>\n",
       "      <td>12.5</td>\n",
       "      <td>5000.0</td>\n",
       "    </tr>\n",
       "    <tr>\n",
       "      <th>1297</th>\n",
       "      <td>0</td>\n",
       "      <td>4</td>\n",
       "      <td>0.5</td>\n",
       "      <td>5000.0</td>\n",
       "    </tr>\n",
       "    <tr>\n",
       "      <th>1293</th>\n",
       "      <td>0</td>\n",
       "      <td>2</td>\n",
       "      <td>1.5</td>\n",
       "      <td>5000.0</td>\n",
       "    </tr>\n",
       "    <tr>\n",
       "      <th>1292</th>\n",
       "      <td>0</td>\n",
       "      <td>5</td>\n",
       "      <td>2.5</td>\n",
       "      <td>5000.0</td>\n",
       "    </tr>\n",
       "    <tr>\n",
       "      <th>1291</th>\n",
       "      <td>1</td>\n",
       "      <td>4</td>\n",
       "      <td>0.5</td>\n",
       "      <td>5000.0</td>\n",
       "    </tr>\n",
       "  </tbody>\n",
       "</table>\n",
       "</div>"
      ],
      "text/plain": [
       "     Gender(Male:0,Female:1) Formal Education Years of Experience  SalaryinUSD\n",
       "0                          0                4                 0.5       5000.0\n",
       "1304                       0                2                 0.5       5000.0\n",
       "1303                       0                2                 0.5       5000.0\n",
       "1301                       0                1                 2.5       5000.0\n",
       "1299                       0                4                 0.5       5000.0\n",
       "1298                       1                4                12.5       5000.0\n",
       "1297                       0                4                 0.5       5000.0\n",
       "1293                       0                2                 1.5       5000.0\n",
       "1292                       0                5                 2.5       5000.0\n",
       "1291                       1                4                 0.5       5000.0"
      ]
     },
     "execution_count": 68,
     "metadata": {},
     "output_type": "execute_result"
    }
   ],
   "source": [
    "df_india_number[0:10]"
   ]
  },
  {
   "cell_type": "code",
   "execution_count": 69,
   "metadata": {
    "scrolled": true
   },
   "outputs": [
    {
     "data": {
      "text/html": [
       "<div>\n",
       "<style>\n",
       "    .dataframe thead tr:only-child th {\n",
       "        text-align: right;\n",
       "    }\n",
       "\n",
       "    .dataframe thead th {\n",
       "        text-align: left;\n",
       "    }\n",
       "\n",
       "    .dataframe tbody tr th {\n",
       "        vertical-align: top;\n",
       "    }\n",
       "</style>\n",
       "<table border=\"1\" class=\"dataframe\">\n",
       "  <thead>\n",
       "    <tr style=\"text-align: right;\">\n",
       "      <th></th>\n",
       "      <th>Gender(Male:0,Female:1)</th>\n",
       "      <th>Formal Education</th>\n",
       "      <th>Years of Experience</th>\n",
       "      <th>SalaryinUSD</th>\n",
       "    </tr>\n",
       "  </thead>\n",
       "  <tbody>\n",
       "    <tr>\n",
       "      <th>0</th>\n",
       "      <td>1</td>\n",
       "      <td>4</td>\n",
       "      <td>0.5</td>\n",
       "      <td>5000.0</td>\n",
       "    </tr>\n",
       "    <tr>\n",
       "      <th>397</th>\n",
       "      <td>0</td>\n",
       "      <td>2</td>\n",
       "      <td>7.5</td>\n",
       "      <td>5000.0</td>\n",
       "    </tr>\n",
       "    <tr>\n",
       "      <th>2561</th>\n",
       "      <td>0</td>\n",
       "      <td>4</td>\n",
       "      <td>0.5</td>\n",
       "      <td>5000.0</td>\n",
       "    </tr>\n",
       "    <tr>\n",
       "      <th>2545</th>\n",
       "      <td>0</td>\n",
       "      <td>4</td>\n",
       "      <td>2.5</td>\n",
       "      <td>5000.0</td>\n",
       "    </tr>\n",
       "    <tr>\n",
       "      <th>1299</th>\n",
       "      <td>0</td>\n",
       "      <td>2</td>\n",
       "      <td>17.5</td>\n",
       "      <td>5000.0</td>\n",
       "    </tr>\n",
       "    <tr>\n",
       "      <th>2539</th>\n",
       "      <td>0</td>\n",
       "      <td>1</td>\n",
       "      <td>0.5</td>\n",
       "      <td>5000.0</td>\n",
       "    </tr>\n",
       "    <tr>\n",
       "      <th>1303</th>\n",
       "      <td>0</td>\n",
       "      <td>2</td>\n",
       "      <td>1.5</td>\n",
       "      <td>5000.0</td>\n",
       "    </tr>\n",
       "    <tr>\n",
       "      <th>1313</th>\n",
       "      <td>0</td>\n",
       "      <td>1</td>\n",
       "      <td>0.5</td>\n",
       "      <td>5000.0</td>\n",
       "    </tr>\n",
       "    <tr>\n",
       "      <th>2532</th>\n",
       "      <td>1</td>\n",
       "      <td>1</td>\n",
       "      <td>17.5</td>\n",
       "      <td>5000.0</td>\n",
       "    </tr>\n",
       "    <tr>\n",
       "      <th>376</th>\n",
       "      <td>0</td>\n",
       "      <td>4</td>\n",
       "      <td>0.5</td>\n",
       "      <td>5000.0</td>\n",
       "    </tr>\n",
       "  </tbody>\n",
       "</table>\n",
       "</div>"
      ],
      "text/plain": [
       "     Gender(Male:0,Female:1) Formal Education Years of Experience  SalaryinUSD\n",
       "0                          1                4                 0.5       5000.0\n",
       "397                        0                2                 7.5       5000.0\n",
       "2561                       0                4                 0.5       5000.0\n",
       "2545                       0                4                 2.5       5000.0\n",
       "1299                       0                2                17.5       5000.0\n",
       "2539                       0                1                 0.5       5000.0\n",
       "1303                       0                2                 1.5       5000.0\n",
       "1313                       0                1                 0.5       5000.0\n",
       "2532                       1                1                17.5       5000.0\n",
       "376                        0                4                 0.5       5000.0"
      ]
     },
     "execution_count": 69,
     "metadata": {},
     "output_type": "execute_result"
    }
   ],
   "source": [
    "df_usa_number[0:10]\n"
   ]
  },
  {
   "cell_type": "markdown",
   "metadata": {},
   "source": [
    "Como modelo incial se tomara una regresión lineal del salario como variable independiente y como varibles dependientes se tomarán el género, el nivel de educación y los años de experiencia. A continuación se ilustra dicho modelo:\n",
    "\n",
    "\n",
    "\n",
    "\n",
    "\n",
    "$\\hspace{6cm}Salary=\\beta_0\\text{Gender}+\\beta_1\\text{Formal Education}+\\beta_2\\text{Years of Experience}+ \\alpha$"
   ]
  },
  {
   "cell_type": "markdown",
   "metadata": {},
   "source": [
    "Ahora bien, hallemos las regresiones para India y Estados Unidos:"
   ]
  },
  {
   "cell_type": "code",
   "execution_count": 70,
   "metadata": {
    "collapsed": true
   },
   "outputs": [
    {
     "data": {
      "text/plain": [
       "LinearRegression(copy_X=True, fit_intercept=True, n_jobs=1, normalize=False)"
      ]
     },
     "execution_count": 70,
     "metadata": {},
     "output_type": "execute_result"
    }
   ],
   "source": [
    "reg_india=linear_model.LinearRegression()\n",
    "reg_india.fit(df_india_number[['Gender(Male:0,Female:1)','Formal Education','Years of Experience']],df_india_number.SalaryinUSD)"
   ]
  },
  {
   "cell_type": "code",
   "execution_count": 71,
   "metadata": {
    "collapsed": true
   },
   "outputs": [
    {
     "data": {
      "text/plain": [
       "LinearRegression(copy_X=True, fit_intercept=True, n_jobs=1, normalize=False)"
      ]
     },
     "execution_count": 71,
     "metadata": {},
     "output_type": "execute_result"
    }
   ],
   "source": [
    "reg_usa=linear_model.LinearRegression()\n",
    "reg_usa.fit(df_usa_number[['Gender(Male:0,Female:1)','Formal Education','Years of Experience']],df_usa_number.SalaryinUSD)"
   ]
  },
  {
   "cell_type": "markdown",
   "metadata": {},
   "source": [
    "\n",
    "\n",
    "#### Con estas regresiones podemos hallar los coeficientes correspondientes:\n"
   ]
  },
  {
   "cell_type": "code",
   "execution_count": 72,
   "metadata": {},
   "outputs": [
    {
     "name": "stdout",
     "output_type": "stream",
     "text": [
      "Rgresión para India:\n",
      "El coeficiente de la regresión para el género es igual a 2380.38267668\n",
      "El coeficiente de la regresión para el nivel de educación es igual a 2285.92348326\n",
      "El coeficiente de la regresión para los años de experiencia es igual a 1644.5466514\n",
      "El valor del intercepto de la regresión es igual a 8949.83283145\n"
     ]
    }
   ],
   "source": [
    "coef_genero_ind,coef_edu_ind,coef_years_ind=reg_india.coef_\n",
    "intercept_ind=reg_india.intercept_\n",
    "print('Rgresión para India:')\n",
    "print('El coeficiente de la regresión para el género es igual a '+str(coef_genero_ind))\n",
    "print('El coeficiente de la regresión para el nivel de educación es igual a '+str(coef_edu_ind))\n",
    "print('El coeficiente de la regresión para los años de experiencia es igual a '+str(coef_years_ind))\n",
    "print('El valor del intercepto de la regresión es igual a '+str(intercept_ind))"
   ]
  },
  {
   "cell_type": "code",
   "execution_count": 73,
   "metadata": {},
   "outputs": [
    {
     "name": "stdout",
     "output_type": "stream",
     "text": [
      "Rgresión para Estados Unidos:\n",
      "El coeficiente de la regresión para el género es igual a -20691.5811666\n",
      "El coeficiente de la regresión para el nivel de educación es igual a 9532.10947328\n",
      "El coeficiente de la regresión para los años de experiencia es igual a 3850.15162539\n",
      "El valor del intercepto de la regresión es igual a 47512.891526\n"
     ]
    }
   ],
   "source": [
    "coef_genero_usa,coef_edu_usa,coef_years_usa=reg_usa.coef_\n",
    "intercept_usa=reg_usa.intercept_\n",
    "print('Rgresión para Estados Unidos:')\n",
    "print('El coeficiente de la regresión para el género es igual a '+str(coef_genero_usa))\n",
    "print('El coeficiente de la regresión para el nivel de educación es igual a '+str(coef_edu_usa))\n",
    "print('El coeficiente de la regresión para los años de experiencia es igual a '+str(coef_years_usa))\n",
    "print('El valor del intercepto de la regresión es igual a '+str(intercept_usa))"
   ]
  },
  {
   "cell_type": "markdown",
   "metadata": {},
   "source": [
    "#### Antes de hallar el error para cada uno de las regresiones, entendamos qué significan estos coeficientes\n",
    "\n",
    "- El coeficiente de género hace referencia a la diferencia salarial entre el hombre y la mujer. \n",
    "- El coeficiente de nivel de educación hace referencia a la diferencia salarial entre niveles de educación, es decir, para el caso de estados unidos un Doctor en promedio gana 9600 dólares más que un Magister.\n",
    "- El coeficiente que para los años de experiencia hace referencia a la diferencia salarial entre los años de educación, es decir, para India en promedio una persona que tiene un año más de experiencia que otra persona gana 1700 dólares de más. "
   ]
  },
  {
   "cell_type": "markdown",
   "metadata": {},
   "source": [
    "#### Pero entonces si tomamos en cuenta los coeficientes de género de ambos países, ¿realmente podemos evidenciar una brecha salarial?\n",
    "\n",
    "Es claro que para el caso de Estados Unidos, existe una brecha salarial entre mujeres y hombres; una persona con la misma experiencia y nivel de educación, sólo por el hecho de ser mujer se le paga en promedio 20,000 dólares al año menos que a un hombre.\n",
    "\n",
    "¿Y, el caso de India? Según el coeficiente de género para India, los hombres ganan 2,400 dólares al año menos que una mujer con su mismo nivel de educación. \n"
   ]
  },
  {
   "cell_type": "markdown",
   "metadata": {},
   "source": [
    "##### Como ejemplo de predicción, supongamos dos personas residentes en la India, una mujer y la otra hombre. Ambas con un nivel de educación de Doctor y con 5 años de experiencia, entonces según nuestro modelo, lo que se puede ganar cada una anualmente en promedio es:"
   ]
  },
  {
   "cell_type": "code",
   "execution_count": 127,
   "metadata": {},
   "outputs": [
    {
     "name": "stdout",
     "output_type": "stream",
     "text": [
      "Salario anual en dólares mujer según nuestro modelo:  30982.56618146846\n",
      "Salario anual en dólares hombre según nuestro modelo:  28602.183504791392\n"
     ]
    }
   ],
   "source": [
    "print('Para India:')\n",
    "print('Salario anual en dólares mujer según nuestro modelo: ',str(float(reg_india.predict([[1,5,5]]))))\n",
    "print('Salario anual en dólares hombre según nuestro modelo: ',str(float(reg_india.predict([[0,5,5]]))))"
   ]
  },
  {
   "cell_type": "markdown",
   "metadata": {},
   "source": [
    "##### Para esas dos personas, pero residiendo en Estados Unidos:"
   ]
  },
  {
   "cell_type": "code",
   "execution_count": 128,
   "metadata": {},
   "outputs": [
    {
     "name": "stdout",
     "output_type": "stream",
     "text": [
      "Para Estados Unidos:\n",
      "Salario anual en dólares mujer según nuestro modelo:  93732.6158526958\n",
      "Salario anual en dólares hombre según nuestro modelo:  114424.19701934018\n"
     ]
    }
   ],
   "source": [
    "print('Para Estados Unidos:')\n",
    "print('Salario anual en dólares mujer según nuestro modelo: ',str(float(reg_usa.predict([[1,5,5]]))))\n",
    "print('Salario anual en dólares hombre según nuestro modelo: ',str(float(reg_usa.predict([[0,5,5]]))))"
   ]
  },
  {
   "cell_type": "markdown",
   "metadata": {},
   "source": [
    "###### Antes de seguir argumentando estas posibles conclusiones con base en una regresión que no hemos observado si realmente es confiable, revisemos el error de nuestro modelo"
   ]
  },
  {
   "cell_type": "code",
   "execution_count": 130,
   "metadata": {},
   "outputs": [
    {
     "name": "stdout",
     "output_type": "stream",
     "text": [
      "                            OLS Regression Results                            \n",
      "==============================================================================\n",
      "Dep. Variable:            SalaryinUSD   R-squared:                       0.173\n",
      "Model:                            OLS   Adj. R-squared:                  0.172\n",
      "Method:                 Least Squares   F-statistic:                     230.8\n",
      "Date:                Mon, 03 Dec 2018   Prob (F-statistic):          5.72e-136\n",
      "Time:                        23:19:45   Log-Likelihood:                -41551.\n",
      "No. Observations:                3318   AIC:                         8.311e+04\n",
      "Df Residuals:                    3314   BIC:                         8.313e+04\n",
      "Df Model:                           3                                         \n",
      "Covariance Type:            nonrobust                                         \n",
      "===========================================================================================\n",
      "                              coef    std err          t      P>|t|      [0.025      0.975]\n",
      "-------------------------------------------------------------------------------------------\n",
      "const                    4.751e+04   3772.055     12.596      0.000    4.01e+04    5.49e+04\n",
      "Gender(Male:0,Female:1) -2.069e+04   2806.697     -7.372      0.000   -2.62e+04   -1.52e+04\n",
      "Formal Education         9532.1095    969.700      9.830      0.000    7630.839    1.14e+04\n",
      "Years of Experience      3850.1516    171.882     22.400      0.000    3513.145    4187.158\n",
      "==============================================================================\n",
      "Omnibus:                     1205.817   Durbin-Watson:                   0.335\n",
      "Prob(Omnibus):                  0.000   Jarque-Bera (JB):             7227.839\n",
      "Skew:                           1.605   Prob(JB):                         0.00\n",
      "Kurtosis:                       9.479   Cond. No.                         30.7\n",
      "==============================================================================\n",
      "\n",
      "Warnings:\n",
      "[1] Standard Errors assume that the covariance matrix of the errors is correctly specified.\n"
     ]
    }
   ],
   "source": [
    "x_usa = df_usa_number[['Gender(Male:0,Female:1)','Formal Education','Years of Experience']]\n",
    "Y_usa = df_usa_number[['SalaryinUSD']]\n",
    "linear_model.LinearRegression().fit(x_usa,Y_usa)\n",
    "X_usa = sm.add_constant(x_usa) # adding a constant\n",
    " \n",
    "model = sm.OLS(Y_usa, X_usa.astype(float)).fit()\n",
    "predictions = model.predict(X_usa) \n",
    "print_model = model.summary()\n",
    "print(print_model)"
   ]
  },
  {
   "cell_type": "code",
   "execution_count": 129,
   "metadata": {},
   "outputs": [
    {
     "name": "stdout",
     "output_type": "stream",
     "text": [
      "                            OLS Regression Results                            \n",
      "==============================================================================\n",
      "Dep. Variable:            SalaryinUSD   R-squared:                       0.030\n",
      "Model:                            OLS   Adj. R-squared:                  0.028\n",
      "Method:                 Least Squares   F-statistic:                     22.95\n",
      "Date:                Mon, 03 Dec 2018   Prob (F-statistic):           1.23e-14\n",
      "Time:                        23:19:42   Log-Likelihood:                -27738.\n",
      "No. Observations:                2265   AIC:                         5.548e+04\n",
      "Df Residuals:                    2261   BIC:                         5.551e+04\n",
      "Df Model:                           3                                         \n",
      "Covariance Type:            nonrobust                                         \n",
      "===========================================================================================\n",
      "                              coef    std err          t      P>|t|      [0.025      0.975]\n",
      "-------------------------------------------------------------------------------------------\n",
      "const                    8949.8328   3046.620      2.938      0.003    2975.369    1.49e+04\n",
      "Gender(Male:0,Female:1)  2380.3827   3321.558      0.717      0.474   -4133.238    8894.003\n",
      "Formal Education         2285.9235    973.091      2.349      0.019     377.679    4194.168\n",
      "Years of Experience      1644.5467    216.834      7.584      0.000    1219.333    2069.760\n",
      "==============================================================================\n",
      "Omnibus:                     2762.178   Durbin-Watson:                   0.058\n",
      "Prob(Omnibus):                  0.000   Jarque-Bera (JB):           266703.020\n",
      "Skew:                           6.612   Prob(JB):                         0.00\n",
      "Kurtosis:                      54.489   Cond. No.                         21.0\n",
      "==============================================================================\n",
      "\n",
      "Warnings:\n",
      "[1] Standard Errors assume that the covariance matrix of the errors is correctly specified.\n"
     ]
    }
   ],
   "source": [
    "x_india = df_india_number[['Gender(Male:0,Female:1)','Formal Education','Years of Experience']]\n",
    "Y_india = df_india_number[['SalaryinUSD']]\n",
    "linear_model.LinearRegression().fit(x_india,Y_india)\n",
    "X_india = sm.add_constant(x_india) # adding a constant\n",
    " \n",
    "model = sm.OLS(Y_india, X_india.astype(float)).fit()\n",
    "predictions = model.predict(X_india) \n",
    "print_model = model.summary()\n",
    "print(print_model)"
   ]
  },
  {
   "cell_type": "code",
   "execution_count": 131,
   "metadata": {},
   "outputs": [
    {
     "name": "stdout",
     "output_type": "stream",
     "text": [
      "R-squared para los datos relacionados a Estados Unidos: 0.173\n",
      "R-squared para los datos relacionados a India: 0.028\n"
     ]
    }
   ],
   "source": [
    "print('R-squared para los datos relacionados a Estados Unidos:',str(0.173))\n",
    "print('R-squared para los datos relacionados a India:',str(0.028))"
   ]
  },
  {
   "cell_type": "markdown",
   "metadata": {},
   "source": [
    "## Conclusiones"
   ]
  },
  {
   "cell_type": "markdown",
   "metadata": {},
   "source": [
    "Estas dos tablas nos muestran información sobre el modelo realizado para cada uno de los dos países. Es verdad que el error cuadrado da significativamente bajo, especialmente para el caso de India. ¿A qué se debe esto?\n",
    "\n",
    "Posibles razones:\n",
    "\n",
    "- No hay suficientes controles, es decir, aunque tuvimos en cuenta tres controles(género, nivel de eduación, años de experiencia) no fueron lo sufcientemente determinantes para establecer un modelo adecuado.\n",
    "\n",
    "- Existen variables que no pueden ser capturadas por la regresión\n",
    "\n",
    "- Una regresión lineal no fue un modelo adecuado para describir la situación a consideración\n",
    "\n",
    "Sin embargo, podemos confiar hasta cierta medida (como lo indica nuestro $R^2$) en el modelo realizado en que existe una brecha salarial entre hombres y mujeres usuarios de Kaggle y residentes en Estados Unidos.\n"
   ]
  },
  {
   "cell_type": "markdown",
   "metadata": {},
   "source": [
    "#### ¿Cómo podríamos mejorar este modelo significativamente para un futuro? \n",
    "\n",
    "Utilizando una técnica conocida como potenciación del gradiente o gradient boosting, esta técnica nos permitirá hacer un análisis de la regresión más adecuado y preciso."
   ]
  },
  {
   "cell_type": "code",
   "execution_count": null,
   "metadata": {
    "collapsed": true
   },
   "outputs": [],
   "source": []
  }
 ],
 "metadata": {
  "kernelspec": {
   "display_name": "Python 3",
   "language": "python",
   "name": "python3"
  },
  "language_info": {
   "codemirror_mode": {
    "name": "ipython",
    "version": 3
   },
   "file_extension": ".py",
   "mimetype": "text/x-python",
   "name": "python",
   "nbconvert_exporter": "python",
   "pygments_lexer": "ipython3",
   "version": "3.6.1"
  }
 },
 "nbformat": 4,
 "nbformat_minor": 2
}
